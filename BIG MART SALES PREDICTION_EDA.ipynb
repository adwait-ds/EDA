{
 "cells": [
  {
   "cell_type": "markdown",
   "metadata": {},
   "source": [
    "# EDA"
   ]
  },
  {
   "cell_type": "markdown",
   "metadata": {},
   "source": [
    "## Big Mart Sales"
   ]
  },
  {
   "cell_type": "code",
   "execution_count": 1,
   "metadata": {},
   "outputs": [],
   "source": [
    "import pandas as pd\n",
    "import numpy as np\n",
    "import seaborn as sns\n",
    "import matplotlib.pyplot as plt"
   ]
  },
  {
   "cell_type": "code",
   "execution_count": 2,
   "metadata": {},
   "outputs": [],
   "source": [
    "train=pd.read_csv('Train.csv')"
   ]
  },
  {
   "cell_type": "markdown",
   "metadata": {},
   "source": [
    "## End Objective:\n",
    "\n",
    "### To find out the sales of each product at a perticular store\n",
    "\n",
    "#### Target Column : \"Sales\"\n",
    "\n",
    "#### Remaining columns : Predictor variables\n",
    "\n",
    "#### Predictor variable are those variables that help you predict the Target Value.\n",
    "\n",
    "'Item_Identifier', 'Item_Weight', 'Item_Fat_Content', 'Item_Visibility',\n",
    "       'Item_Type', 'Item_MRP', 'Outlet_Identifier',\n",
    "       'Outlet_Establishment_Year', 'Outlet_Size', 'Outlet_Location_Type',\n",
    "       'Outlet_Type'"
   ]
  },
  {
   "cell_type": "markdown",
   "metadata": {},
   "source": [
    "#### Univariate Analysis :\n",
    "#### Numerical column : Histogram . shape of the data\n",
    "#### Categorical column: Countplot\n"
   ]
  },
  {
   "cell_type": "code",
   "execution_count": 3,
   "metadata": {},
   "outputs": [
    {
     "data": {
      "text/html": [
       "<div>\n",
       "<style scoped>\n",
       "    .dataframe tbody tr th:only-of-type {\n",
       "        vertical-align: middle;\n",
       "    }\n",
       "\n",
       "    .dataframe tbody tr th {\n",
       "        vertical-align: top;\n",
       "    }\n",
       "\n",
       "    .dataframe thead th {\n",
       "        text-align: right;\n",
       "    }\n",
       "</style>\n",
       "<table border=\"1\" class=\"dataframe\">\n",
       "  <thead>\n",
       "    <tr style=\"text-align: right;\">\n",
       "      <th></th>\n",
       "      <th>Item_Identifier</th>\n",
       "      <th>Item_Weight</th>\n",
       "      <th>Item_Fat_Content</th>\n",
       "      <th>Item_Visibility</th>\n",
       "      <th>Item_Type</th>\n",
       "      <th>Item_MRP</th>\n",
       "      <th>Outlet_Identifier</th>\n",
       "      <th>Outlet_Establishment_Year</th>\n",
       "      <th>Outlet_Size</th>\n",
       "      <th>Outlet_Location_Type</th>\n",
       "      <th>Outlet_Type</th>\n",
       "      <th>Item_Outlet_Sales</th>\n",
       "    </tr>\n",
       "  </thead>\n",
       "  <tbody>\n",
       "    <tr>\n",
       "      <th>0</th>\n",
       "      <td>FDA15</td>\n",
       "      <td>9.30</td>\n",
       "      <td>Low Fat</td>\n",
       "      <td>0.016047</td>\n",
       "      <td>Dairy</td>\n",
       "      <td>249.8092</td>\n",
       "      <td>OUT049</td>\n",
       "      <td>1999</td>\n",
       "      <td>Medium</td>\n",
       "      <td>Tier 1</td>\n",
       "      <td>Supermarket Type1</td>\n",
       "      <td>3735.1380</td>\n",
       "    </tr>\n",
       "    <tr>\n",
       "      <th>1</th>\n",
       "      <td>DRC01</td>\n",
       "      <td>5.92</td>\n",
       "      <td>Regular</td>\n",
       "      <td>0.019278</td>\n",
       "      <td>Soft Drinks</td>\n",
       "      <td>48.2692</td>\n",
       "      <td>OUT018</td>\n",
       "      <td>2009</td>\n",
       "      <td>Medium</td>\n",
       "      <td>Tier 3</td>\n",
       "      <td>Supermarket Type2</td>\n",
       "      <td>443.4228</td>\n",
       "    </tr>\n",
       "    <tr>\n",
       "      <th>2</th>\n",
       "      <td>FDN15</td>\n",
       "      <td>17.50</td>\n",
       "      <td>Low Fat</td>\n",
       "      <td>0.016760</td>\n",
       "      <td>Meat</td>\n",
       "      <td>141.6180</td>\n",
       "      <td>OUT049</td>\n",
       "      <td>1999</td>\n",
       "      <td>Medium</td>\n",
       "      <td>Tier 1</td>\n",
       "      <td>Supermarket Type1</td>\n",
       "      <td>2097.2700</td>\n",
       "    </tr>\n",
       "    <tr>\n",
       "      <th>3</th>\n",
       "      <td>FDX07</td>\n",
       "      <td>19.20</td>\n",
       "      <td>Regular</td>\n",
       "      <td>0.000000</td>\n",
       "      <td>Fruits and Vegetables</td>\n",
       "      <td>182.0950</td>\n",
       "      <td>OUT010</td>\n",
       "      <td>1998</td>\n",
       "      <td>NaN</td>\n",
       "      <td>Tier 3</td>\n",
       "      <td>Grocery Store</td>\n",
       "      <td>732.3800</td>\n",
       "    </tr>\n",
       "    <tr>\n",
       "      <th>4</th>\n",
       "      <td>NCD19</td>\n",
       "      <td>8.93</td>\n",
       "      <td>Low Fat</td>\n",
       "      <td>0.000000</td>\n",
       "      <td>Household</td>\n",
       "      <td>53.8614</td>\n",
       "      <td>OUT013</td>\n",
       "      <td>1987</td>\n",
       "      <td>High</td>\n",
       "      <td>Tier 3</td>\n",
       "      <td>Supermarket Type1</td>\n",
       "      <td>994.7052</td>\n",
       "    </tr>\n",
       "  </tbody>\n",
       "</table>\n",
       "</div>"
      ],
      "text/plain": [
       "  Item_Identifier  Item_Weight Item_Fat_Content  Item_Visibility  \\\n",
       "0           FDA15         9.30          Low Fat         0.016047   \n",
       "1           DRC01         5.92          Regular         0.019278   \n",
       "2           FDN15        17.50          Low Fat         0.016760   \n",
       "3           FDX07        19.20          Regular         0.000000   \n",
       "4           NCD19         8.93          Low Fat         0.000000   \n",
       "\n",
       "               Item_Type  Item_MRP Outlet_Identifier  \\\n",
       "0                  Dairy  249.8092            OUT049   \n",
       "1            Soft Drinks   48.2692            OUT018   \n",
       "2                   Meat  141.6180            OUT049   \n",
       "3  Fruits and Vegetables  182.0950            OUT010   \n",
       "4              Household   53.8614            OUT013   \n",
       "\n",
       "   Outlet_Establishment_Year Outlet_Size Outlet_Location_Type  \\\n",
       "0                       1999      Medium               Tier 1   \n",
       "1                       2009      Medium               Tier 3   \n",
       "2                       1999      Medium               Tier 1   \n",
       "3                       1998         NaN               Tier 3   \n",
       "4                       1987        High               Tier 3   \n",
       "\n",
       "         Outlet_Type  Item_Outlet_Sales  \n",
       "0  Supermarket Type1          3735.1380  \n",
       "1  Supermarket Type2           443.4228  \n",
       "2  Supermarket Type1          2097.2700  \n",
       "3      Grocery Store           732.3800  \n",
       "4  Supermarket Type1           994.7052  "
      ]
     },
     "execution_count": 3,
     "metadata": {},
     "output_type": "execute_result"
    }
   ],
   "source": [
    "train.head()"
   ]
  },
  {
   "cell_type": "code",
   "execution_count": 4,
   "metadata": {},
   "outputs": [
    {
     "data": {
      "text/plain": [
       "(8523, 12)"
      ]
     },
     "execution_count": 4,
     "metadata": {},
     "output_type": "execute_result"
    }
   ],
   "source": [
    "train.shape"
   ]
  },
  {
   "cell_type": "code",
   "execution_count": 5,
   "metadata": {},
   "outputs": [
    {
     "data": {
      "text/plain": [
       "<AxesSubplot:xlabel='Item_Outlet_Sales'>"
      ]
     },
     "execution_count": 5,
     "metadata": {},
     "output_type": "execute_result"
    },
    {
     "data": {
      "image/png": "[encoded data removed]",
      "text/plain": [
       "<Figure size 432x288 with 1 Axes>"
      ]
     },
     "metadata": {
      "needs_background": "light"
     },
     "output_type": "display_data"
    }
   ],
   "source": [
    "# Target variable\n",
    "sns.distplot(train['Item_Outlet_Sales'],color='red')"
   ]
  },
  {
   "cell_type": "code",
   "execution_count": 6,
   "metadata": {},
   "outputs": [
    {
     "data": {
      "text/plain": [
       "count     8523.000000\n",
       "mean      2181.288914\n",
       "std       1706.499616\n",
       "min         33.290000\n",
       "25%        834.247400\n",
       "50%       1794.331000\n",
       "75%       3101.296400\n",
       "max      13086.964800\n",
       "Name: Item_Outlet_Sales, dtype: float64"
      ]
     },
     "execution_count": 6,
     "metadata": {},
     "output_type": "execute_result"
    }
   ],
   "source": [
    "train['Item_Outlet_Sales'].describe()"
   ]
  },
  {
   "cell_type": "markdown",
   "metadata": {},
   "source": [
    "### Target variable analysis\n",
    "\n",
    "1. Higher sales is visible as the max sales recorded is of 13000.\n",
    "\n",
    "2. Majority of the sales is in the of 33 to 800 approx\n",
    "\n",
    "3. The median sale is captured at 1800 approx where as on an average the sale value is 2100\n",
    "\n",
    "4. The max sale is 13086. I wish to explore this value"
   ]
  },
  {
   "cell_type": "code",
   "execution_count": 7,
   "metadata": {},
   "outputs": [
    {
     "data": {
      "text/html": [
       "<div>\n",
       "<style scoped>\n",
       "    .dataframe tbody tr th:only-of-type {\n",
       "        vertical-align: middle;\n",
       "    }\n",
       "\n",
       "    .dataframe tbody tr th {\n",
       "        vertical-align: top;\n",
       "    }\n",
       "\n",
       "    .dataframe thead th {\n",
       "        text-align: right;\n",
       "    }\n",
       "</style>\n",
       "<table border=\"1\" class=\"dataframe\">\n",
       "  <thead>\n",
       "    <tr style=\"text-align: right;\">\n",
       "      <th></th>\n",
       "      <th>Item_Identifier</th>\n",
       "      <th>Item_Weight</th>\n",
       "      <th>Item_Fat_Content</th>\n",
       "      <th>Item_Visibility</th>\n",
       "      <th>Item_Type</th>\n",
       "      <th>Item_MRP</th>\n",
       "      <th>Outlet_Identifier</th>\n",
       "      <th>Outlet_Establishment_Year</th>\n",
       "      <th>Outlet_Size</th>\n",
       "      <th>Outlet_Location_Type</th>\n",
       "      <th>Outlet_Type</th>\n",
       "      <th>Item_Outlet_Sales</th>\n",
       "    </tr>\n",
       "  </thead>\n",
       "  <tbody>\n",
       "    <tr>\n",
       "      <th>7188</th>\n",
       "      <td>NCE42</td>\n",
       "      <td>NaN</td>\n",
       "      <td>Low Fat</td>\n",
       "      <td>0.010551</td>\n",
       "      <td>Household</td>\n",
       "      <td>234.9958</td>\n",
       "      <td>OUT027</td>\n",
       "      <td>1985</td>\n",
       "      <td>Medium</td>\n",
       "      <td>Tier 3</td>\n",
       "      <td>Supermarket Type3</td>\n",
       "      <td>13086.9648</td>\n",
       "    </tr>\n",
       "  </tbody>\n",
       "</table>\n",
       "</div>"
      ],
      "text/plain": [
       "     Item_Identifier  Item_Weight Item_Fat_Content  Item_Visibility  \\\n",
       "7188           NCE42          NaN          Low Fat         0.010551   \n",
       "\n",
       "      Item_Type  Item_MRP Outlet_Identifier  Outlet_Establishment_Year  \\\n",
       "7188  Household  234.9958            OUT027                       1985   \n",
       "\n",
       "     Outlet_Size Outlet_Location_Type        Outlet_Type  Item_Outlet_Sales  \n",
       "7188      Medium               Tier 3  Supermarket Type3         13086.9648  "
      ]
     },
     "execution_count": 7,
     "metadata": {},
     "output_type": "execute_result"
    }
   ],
   "source": [
    "# max sale 13086\n",
    "train[train.Item_Outlet_Sales==train.Item_Outlet_Sales.max()]"
   ]
  },
  {
   "cell_type": "markdown",
   "metadata": {},
   "source": [
    "### Observation from max sale\n",
    "\n",
    "1. Outlet 27 needs investigation\n",
    "\n",
    "2. Multiple Items are purchased. It is combination of several items\n",
    "\n",
    "3. This gives an inclination on MRP. MRP as appears is a consolidated MRP of several  items"
   ]
  },
  {
   "cell_type": "code",
   "execution_count": 8,
   "metadata": {},
   "outputs": [
    {
     "data": {
      "text/plain": [
       "array(['Low Fat', 'Regular', 'low fat', 'LF', 'reg'], dtype=object)"
      ]
     },
     "execution_count": 8,
     "metadata": {},
     "output_type": "execute_result"
    }
   ],
   "source": [
    "train['Item_Fat_Content'].unique()"
   ]
  },
  {
   "cell_type": "code",
   "execution_count": 9,
   "metadata": {},
   "outputs": [],
   "source": [
    "train['Item_Fat_Content'].replace(to_replace='LF',value='Low Fat',inplace=True)\n",
    "train['Item_Fat_Content'].replace(to_replace='low fat',value='Low Fat',inplace=True)\n",
    "train['Item_Fat_Content'].replace(to_replace='reg',value='Regular',inplace=True)"
   ]
  },
  {
   "cell_type": "code",
   "execution_count": 10,
   "metadata": {},
   "outputs": [
    {
     "data": {
      "text/plain": [
       "Low Fat    5517\n",
       "Regular    3006\n",
       "Name: Item_Fat_Content, dtype: int64"
      ]
     },
     "execution_count": 10,
     "metadata": {},
     "output_type": "execute_result"
    }
   ],
   "source": [
    "train['Item_Fat_Content'].value_counts()"
   ]
  },
  {
   "cell_type": "code",
   "execution_count": 11,
   "metadata": {},
   "outputs": [
    {
     "data": {
      "text/plain": [
       "<AxesSubplot:>"
      ]
     },
     "execution_count": 11,
     "metadata": {},
     "output_type": "execute_result"
    },
    {
     "data": {
      "image/png": "[encoded data removed]",
      "text/plain": [
       "<Figure size 432x288 with 1 Axes>"
      ]
     },
     "metadata": {
      "needs_background": "light"
     },
     "output_type": "display_data"
    }
   ],
   "source": [
    "train['Item_Fat_Content'].value_counts().plot(kind='bar')"
   ]
  },
  {
   "cell_type": "markdown",
   "metadata": {},
   "source": [
    "### Bivariate Analysis\n",
    "\n",
    "#### It is always done between Target Variable and predictor variable"
   ]
  },
  {
   "cell_type": "code",
   "execution_count": 12,
   "metadata": {},
   "outputs": [
    {
     "data": {
      "text/plain": [
       "Text(0.5, 1.0, 'scatterplot - sales vs MRP ')"
      ]
     },
     "execution_count": 12,
     "metadata": {},
     "output_type": "execute_result"
    },
    {
     "data": {
      "image/png": "[encoded data removed]",
      "text/plain": [
       "<Figure size 432x288 with 1 Axes>"
      ]
     },
     "metadata": {
      "needs_background": "light"
     },
     "output_type": "display_data"
    }
   ],
   "source": [
    "# scatter plot between \"item Mrp\" and 'Sale'\n",
    "\n",
    "plt.scatter(train['Item_MRP'],train['Item_Outlet_Sales'],color='blue')\n",
    "plt.xlabel('MRP')\n",
    "plt.ylabel('Sales')\n",
    "plt.title('scatterplot - sales vs MRP ')"
   ]
  },
  {
   "cell_type": "markdown",
   "metadata": {},
   "source": [
    "### Inference\n",
    "#### In the scatter plot of mrp vs sale . The MRp is combined and we can extract/create a new variable Price per unit\n",
    "#### Price_per_unit = mrp/ weight"
   ]
  },
  {
   "cell_type": "code",
   "execution_count": 13,
   "metadata": {},
   "outputs": [
    {
     "data": {
      "text/plain": [
       "Text(0.5, 1.0, 'scatterplot - sales vs weight ')"
      ]
     },
     "execution_count": 13,
     "metadata": {},
     "output_type": "execute_result"
    },
    {
     "data": {
      "image/png": "[encoded data removed]",
      "text/plain": [
       "<Figure size 432x288 with 1 Axes>"
      ]
     },
     "metadata": {
      "needs_background": "light"
     },
     "output_type": "display_data"
    }
   ],
   "source": [
    "plt.scatter(train['Item_Weight'],train['Item_Outlet_Sales'],color='red')\n",
    "plt.xlabel('weight')\n",
    "plt.ylabel('Sales')\n",
    "plt.title('scatterplot - sales vs weight ')"
   ]
  },
  {
   "cell_type": "markdown",
   "metadata": {},
   "source": [
    "#### There is no pattern found between Item_weight vs sales"
   ]
  },
  {
   "cell_type": "code",
   "execution_count": 14,
   "metadata": {},
   "outputs": [
    {
     "data": {
      "text/plain": [
       "Text(0.5, 1.0, 'scatterplot - sales vs Item_Visibility ')"
      ]
     },
     "execution_count": 14,
     "metadata": {},
     "output_type": "execute_result"
    },
    {
     "data": {
      "image/png": "[encoded data removed]",
      "text/plain": [
       "<Figure size 432x288 with 1 Axes>"
      ]
     },
     "metadata": {
      "needs_background": "light"
     },
     "output_type": "display_data"
    }
   ],
   "source": [
    "plt.scatter(train['Item_Visibility'],train['Item_Outlet_Sales'],color='green')\n",
    "plt.xlabel('Item_Visibility')\n",
    "plt.ylabel('Sales')\n",
    "plt.title('scatterplot - sales vs Item_Visibility ')"
   ]
  },
  {
   "cell_type": "markdown",
   "metadata": {},
   "source": [
    "### Inference\n",
    "#### 1. In visibility vs sale , the highly visible items have lesser sale\n",
    "#### 2. Lot of sale is captured at 0 vissibility. This appears to be anamolous. Hence it need fixing"
   ]
  },
  {
   "cell_type": "code",
   "execution_count": 15,
   "metadata": {},
   "outputs": [
    {
     "data": {
      "text/plain": [
       "Fruits and Vegetables    1232\n",
       "Snack Foods              1200\n",
       "Household                 910\n",
       "Frozen Foods              856\n",
       "Dairy                     682\n",
       "Canned                    649\n",
       "Baking Goods              648\n",
       "Health and Hygiene        520\n",
       "Soft Drinks               445\n",
       "Meat                      425\n",
       "Breads                    251\n",
       "Hard Drinks               214\n",
       "Others                    169\n",
       "Starchy Foods             148\n",
       "Breakfast                 110\n",
       "Seafood                    64\n",
       "Name: Item_Type, dtype: int64"
      ]
     },
     "execution_count": 15,
     "metadata": {},
     "output_type": "execute_result"
    }
   ],
   "source": [
    "train.Item_Type.value_counts()"
   ]
  },
  {
   "cell_type": "code",
   "execution_count": 16,
   "metadata": {},
   "outputs": [
    {
     "data": {
      "text/plain": [
       "<AxesSubplot:>"
      ]
     },
     "execution_count": 16,
     "metadata": {},
     "output_type": "execute_result"
    },
    {
     "data": {
      "image/png": "[encoded data removed]",
      "text/plain": [
       "<Figure size 432x288 with 1 Axes>"
      ]
     },
     "metadata": {
      "needs_background": "light"
     },
     "output_type": "display_data"
    }
   ],
   "source": [
    "train.Item_Type.value_counts().plot(kind='bar')\n",
    "\n",
    "# Top 5 items identified are\n",
    "# 1. Fruits and Vegetables 2. Snack Foods 3. Household 4.Frozen Foods 5.Dairy            "
   ]
  },
  {
   "cell_type": "code",
   "execution_count": 17,
   "metadata": {},
   "outputs": [
    {
     "data": {
      "text/html": [
       "<div>\n",
       "<style scoped>\n",
       "    .dataframe tbody tr th:only-of-type {\n",
       "        vertical-align: middle;\n",
       "    }\n",
       "\n",
       "    .dataframe tbody tr th {\n",
       "        vertical-align: top;\n",
       "    }\n",
       "\n",
       "    .dataframe thead th {\n",
       "        text-align: right;\n",
       "    }\n",
       "</style>\n",
       "<table border=\"1\" class=\"dataframe\">\n",
       "  <thead>\n",
       "    <tr style=\"text-align: right;\">\n",
       "      <th></th>\n",
       "      <th>count</th>\n",
       "      <th>mean</th>\n",
       "      <th>std</th>\n",
       "      <th>min</th>\n",
       "      <th>25%</th>\n",
       "      <th>50%</th>\n",
       "      <th>75%</th>\n",
       "      <th>max</th>\n",
       "    </tr>\n",
       "    <tr>\n",
       "      <th>Item_Type</th>\n",
       "      <th></th>\n",
       "      <th></th>\n",
       "      <th></th>\n",
       "      <th></th>\n",
       "      <th></th>\n",
       "      <th></th>\n",
       "      <th></th>\n",
       "      <th></th>\n",
       "    </tr>\n",
       "  </thead>\n",
       "  <tbody>\n",
       "    <tr>\n",
       "      <th>Fruits and Vegetables</th>\n",
       "      <td>1232.0</td>\n",
       "      <td>2289.009592</td>\n",
       "      <td>1799.503459</td>\n",
       "      <td>45.2744</td>\n",
       "      <td>884.84820</td>\n",
       "      <td>1830.9500</td>\n",
       "      <td>3227.13260</td>\n",
       "      <td>12117.5600</td>\n",
       "    </tr>\n",
       "    <tr>\n",
       "      <th>Snack Foods</th>\n",
       "      <td>1200.0</td>\n",
       "      <td>2277.321739</td>\n",
       "      <td>1705.121755</td>\n",
       "      <td>33.9558</td>\n",
       "      <td>918.80400</td>\n",
       "      <td>1944.1360</td>\n",
       "      <td>3143.57470</td>\n",
       "      <td>10993.6896</td>\n",
       "    </tr>\n",
       "    <tr>\n",
       "      <th>Household</th>\n",
       "      <td>910.0</td>\n",
       "      <td>2258.784300</td>\n",
       "      <td>1692.245757</td>\n",
       "      <td>33.2900</td>\n",
       "      <td>853.38915</td>\n",
       "      <td>1981.4208</td>\n",
       "      <td>3236.78670</td>\n",
       "      <td>13086.9648</td>\n",
       "    </tr>\n",
       "    <tr>\n",
       "      <th>Frozen Foods</th>\n",
       "      <td>856.0</td>\n",
       "      <td>2132.867744</td>\n",
       "      <td>1724.777720</td>\n",
       "      <td>36.6190</td>\n",
       "      <td>808.94700</td>\n",
       "      <td>1687.1372</td>\n",
       "      <td>3079.49145</td>\n",
       "      <td>9678.0688</td>\n",
       "    </tr>\n",
       "    <tr>\n",
       "      <th>Dairy</th>\n",
       "      <td>682.0</td>\n",
       "      <td>2232.542597</td>\n",
       "      <td>1884.404698</td>\n",
       "      <td>40.6138</td>\n",
       "      <td>788.97300</td>\n",
       "      <td>1650.8511</td>\n",
       "      <td>3296.20935</td>\n",
       "      <td>10256.6490</td>\n",
       "    </tr>\n",
       "    <tr>\n",
       "      <th>Canned</th>\n",
       "      <td>649.0</td>\n",
       "      <td>2225.194904</td>\n",
       "      <td>1645.235638</td>\n",
       "      <td>37.9506</td>\n",
       "      <td>952.09400</td>\n",
       "      <td>1860.2452</td>\n",
       "      <td>3101.29640</td>\n",
       "      <td>10306.5840</td>\n",
       "    </tr>\n",
       "    <tr>\n",
       "      <th>Baking Goods</th>\n",
       "      <td>648.0</td>\n",
       "      <td>1952.971207</td>\n",
       "      <td>1546.788045</td>\n",
       "      <td>37.2848</td>\n",
       "      <td>705.08220</td>\n",
       "      <td>1577.9460</td>\n",
       "      <td>2823.82425</td>\n",
       "      <td>7931.6754</td>\n",
       "    </tr>\n",
       "    <tr>\n",
       "      <th>Health and Hygiene</th>\n",
       "      <td>520.0</td>\n",
       "      <td>2010.000265</td>\n",
       "      <td>1553.633063</td>\n",
       "      <td>34.6216</td>\n",
       "      <td>758.84555</td>\n",
       "      <td>1669.4935</td>\n",
       "      <td>2884.57850</td>\n",
       "      <td>9779.9362</td>\n",
       "    </tr>\n",
       "    <tr>\n",
       "      <th>Soft Drinks</th>\n",
       "      <td>445.0</td>\n",
       "      <td>2006.511735</td>\n",
       "      <td>1674.249752</td>\n",
       "      <td>33.2900</td>\n",
       "      <td>771.66220</td>\n",
       "      <td>1518.0240</td>\n",
       "      <td>2759.07520</td>\n",
       "      <td>9554.2300</td>\n",
       "    </tr>\n",
       "    <tr>\n",
       "      <th>Meat</th>\n",
       "      <td>425.0</td>\n",
       "      <td>2158.977911</td>\n",
       "      <td>1695.231081</td>\n",
       "      <td>47.9376</td>\n",
       "      <td>782.98080</td>\n",
       "      <td>1829.6184</td>\n",
       "      <td>3036.04800</td>\n",
       "      <td>9390.4432</td>\n",
       "    </tr>\n",
       "    <tr>\n",
       "      <th>Breads</th>\n",
       "      <td>251.0</td>\n",
       "      <td>2204.132226</td>\n",
       "      <td>1644.235914</td>\n",
       "      <td>35.2874</td>\n",
       "      <td>968.73900</td>\n",
       "      <td>1860.2452</td>\n",
       "      <td>3145.90500</td>\n",
       "      <td>8958.3390</td>\n",
       "    </tr>\n",
       "    <tr>\n",
       "      <th>Hard Drinks</th>\n",
       "      <td>214.0</td>\n",
       "      <td>2139.221622</td>\n",
       "      <td>1606.191587</td>\n",
       "      <td>37.9506</td>\n",
       "      <td>834.91320</td>\n",
       "      <td>1816.6353</td>\n",
       "      <td>3071.33540</td>\n",
       "      <td>7843.1240</td>\n",
       "    </tr>\n",
       "    <tr>\n",
       "      <th>Others</th>\n",
       "      <td>169.0</td>\n",
       "      <td>1926.139702</td>\n",
       "      <td>1431.860471</td>\n",
       "      <td>39.9480</td>\n",
       "      <td>790.97040</td>\n",
       "      <td>1713.7692</td>\n",
       "      <td>2719.79300</td>\n",
       "      <td>6008.8450</td>\n",
       "    </tr>\n",
       "    <tr>\n",
       "      <th>Starchy Foods</th>\n",
       "      <td>148.0</td>\n",
       "      <td>2374.332773</td>\n",
       "      <td>1773.945328</td>\n",
       "      <td>58.5904</td>\n",
       "      <td>958.75200</td>\n",
       "      <td>1968.1048</td>\n",
       "      <td>3592.65680</td>\n",
       "      <td>8132.0812</td>\n",
       "    </tr>\n",
       "    <tr>\n",
       "      <th>Breakfast</th>\n",
       "      <td>110.0</td>\n",
       "      <td>2111.808651</td>\n",
       "      <td>1911.693586</td>\n",
       "      <td>39.9480</td>\n",
       "      <td>679.11600</td>\n",
       "      <td>1554.6430</td>\n",
       "      <td>2970.30025</td>\n",
       "      <td>8209.3140</td>\n",
       "    </tr>\n",
       "    <tr>\n",
       "      <th>Seafood</th>\n",
       "      <td>64.0</td>\n",
       "      <td>2326.065928</td>\n",
       "      <td>1842.988719</td>\n",
       "      <td>149.8050</td>\n",
       "      <td>473.38380</td>\n",
       "      <td>2055.3246</td>\n",
       "      <td>3589.32780</td>\n",
       "      <td>6503.5344</td>\n",
       "    </tr>\n",
       "  </tbody>\n",
       "</table>\n",
       "</div>"
      ],
      "text/plain": [
       "                        count         mean          std       min        25%  \\\n",
       "Item_Type                                                                      \n",
       "Fruits and Vegetables  1232.0  2289.009592  1799.503459   45.2744  884.84820   \n",
       "Snack Foods            1200.0  2277.321739  1705.121755   33.9558  918.80400   \n",
       "Household               910.0  2258.784300  1692.245757   33.2900  853.38915   \n",
       "Frozen Foods            856.0  2132.867744  1724.777720   36.6190  808.94700   \n",
       "Dairy                   682.0  2232.542597  1884.404698   40.6138  788.97300   \n",
       "Canned                  649.0  2225.194904  1645.235638   37.9506  952.09400   \n",
       "Baking Goods            648.0  1952.971207  1546.788045   37.2848  705.08220   \n",
       "Health and Hygiene      520.0  2010.000265  1553.633063   34.6216  758.84555   \n",
       "Soft Drinks             445.0  2006.511735  1674.249752   33.2900  771.66220   \n",
       "Meat                    425.0  2158.977911  1695.231081   47.9376  782.98080   \n",
       "Breads                  251.0  2204.132226  1644.235914   35.2874  968.73900   \n",
       "Hard Drinks             214.0  2139.221622  1606.191587   37.9506  834.91320   \n",
       "Others                  169.0  1926.139702  1431.860471   39.9480  790.97040   \n",
       "Starchy Foods           148.0  2374.332773  1773.945328   58.5904  958.75200   \n",
       "Breakfast               110.0  2111.808651  1911.693586   39.9480  679.11600   \n",
       "Seafood                  64.0  2326.065928  1842.988719  149.8050  473.38380   \n",
       "\n",
       "                             50%         75%         max  \n",
       "Item_Type                                                 \n",
       "Fruits and Vegetables  1830.9500  3227.13260  12117.5600  \n",
       "Snack Foods            1944.1360  3143.57470  10993.6896  \n",
       "Household              1981.4208  3236.78670  13086.9648  \n",
       "Frozen Foods           1687.1372  3079.49145   9678.0688  \n",
       "Dairy                  1650.8511  3296.20935  10256.6490  \n",
       "Canned                 1860.2452  3101.29640  10306.5840  \n",
       "Baking Goods           1577.9460  2823.82425   7931.6754  \n",
       "Health and Hygiene     1669.4935  2884.57850   9779.9362  \n",
       "Soft Drinks            1518.0240  2759.07520   9554.2300  \n",
       "Meat                   1829.6184  3036.04800   9390.4432  \n",
       "Breads                 1860.2452  3145.90500   8958.3390  \n",
       "Hard Drinks            1816.6353  3071.33540   7843.1240  \n",
       "Others                 1713.7692  2719.79300   6008.8450  \n",
       "Starchy Foods          1968.1048  3592.65680   8132.0812  \n",
       "Breakfast              1554.6430  2970.30025   8209.3140  \n",
       "Seafood                2055.3246  3589.32780   6503.5344  "
      ]
     },
     "execution_count": 17,
     "metadata": {},
     "output_type": "execute_result"
    }
   ],
   "source": [
    "### Statistical summary of Item type\n",
    "\n",
    "train.groupby('Item_Type')['Item_Outlet_Sales'].describe().sort_values(by='count',ascending=False)"
   ]
  },
  {
   "cell_type": "code",
   "execution_count": 18,
   "metadata": {},
   "outputs": [
    {
     "data": {
      "text/plain": [
       "(array([ 0,  1,  2,  3,  4,  5,  6,  7,  8,  9, 10, 11, 12, 13, 14, 15]),\n",
       " [Text(0, 0, 'Dairy'),\n",
       "  Text(1, 0, 'Soft Drinks'),\n",
       "  Text(2, 0, 'Meat'),\n",
       "  Text(3, 0, 'Fruits and Vegetables'),\n",
       "  Text(4, 0, 'Household'),\n",
       "  Text(5, 0, 'Baking Goods'),\n",
       "  Text(6, 0, 'Snack Foods'),\n",
       "  Text(7, 0, 'Frozen Foods'),\n",
       "  Text(8, 0, 'Breakfast'),\n",
       "  Text(9, 0, 'Health and Hygiene'),\n",
       "  Text(10, 0, 'Hard Drinks'),\n",
       "  Text(11, 0, 'Canned'),\n",
       "  Text(12, 0, 'Breads'),\n",
       "  Text(13, 0, 'Starchy Foods'),\n",
       "  Text(14, 0, 'Others'),\n",
       "  Text(15, 0, 'Seafood')])"
      ]
     },
     "execution_count": 18,
     "metadata": {},
     "output_type": "execute_result"
    },
    {
     "data": {
      "image/png": "[encoded data removed]",
      "text/plain": [
       "<Figure size 1080x576 with 1 Axes>"
      ]
     },
     "metadata": {
      "needs_background": "light"
     },
     "output_type": "display_data"
    }
   ],
   "source": [
    "# Plot between Item type and sale  \n",
    "plt.figure(figsize=[15,8])\n",
    "sns.boxplot(x=train['Item_Type'],y=train['Item_Outlet_Sales'])\n",
    "plt.xticks(rotation=90)"
   ]
  },
  {
   "cell_type": "code",
   "execution_count": 19,
   "metadata": {},
   "outputs": [
    {
     "data": {
      "text/plain": [
       "Item_Identifier                 0\n",
       "Item_Weight                  1463\n",
       "Item_Fat_Content                0\n",
       "Item_Visibility                 0\n",
       "Item_Type                       0\n",
       "Item_MRP                        0\n",
       "Outlet_Identifier               0\n",
       "Outlet_Establishment_Year       0\n",
       "Outlet_Size                  2410\n",
       "Outlet_Location_Type            0\n",
       "Outlet_Type                     0\n",
       "Item_Outlet_Sales               0\n",
       "dtype: int64"
      ]
     },
     "execution_count": 19,
     "metadata": {},
     "output_type": "execute_result"
    }
   ],
   "source": [
    "# Missing values\n",
    "\n",
    "train.isnull().sum()"
   ]
  },
  {
   "cell_type": "code",
   "execution_count": 20,
   "metadata": {},
   "outputs": [
    {
     "data": {
      "text/plain": [
       "Medium    2793\n",
       "Small     2388\n",
       "High       932\n",
       "Name: Outlet_Size, dtype: int64"
      ]
     },
     "execution_count": 20,
     "metadata": {},
     "output_type": "execute_result"
    }
   ],
   "source": [
    "# Outlet size\n",
    "train['Outlet_Size'].value_counts()"
   ]
  },
  {
   "cell_type": "code",
   "execution_count": 21,
   "metadata": {},
   "outputs": [
    {
     "data": {
      "text/plain": [
       "(array([0, 1, 2]),\n",
       " [Text(0, 0, 'Medium'), Text(1, 0, 'High'), Text(2, 0, 'Small')])"
      ]
     },
     "execution_count": 21,
     "metadata": {},
     "output_type": "execute_result"
    },
    {
     "data": {
      "image/png": "[encoded data removed]",
      "text/plain": [
       "<Figure size 1080x576 with 1 Axes>"
      ]
     },
     "metadata": {
      "needs_background": "light"
     },
     "output_type": "display_data"
    }
   ],
   "source": [
    "# Plot between Outlet size and sale  \n",
    "plt.figure(figsize=[15,8])\n",
    "sns.boxplot(x=train['Outlet_Size'],y=train['Item_Outlet_Sales'])\n",
    "plt.xticks(rotation=90)"
   ]
  },
  {
   "cell_type": "code",
   "execution_count": 22,
   "metadata": {},
   "outputs": [],
   "source": [
    "# Filling Mediam in outlet_size\n",
    "train['Outlet_Size'].fillna(value=\"Medium\",inplace=True)"
   ]
  },
  {
   "cell_type": "code",
   "execution_count": 23,
   "metadata": {},
   "outputs": [
    {
     "data": {
      "text/plain": [
       "Item_Weight  Item_Identifier\n",
       "13.650       FDP28              8\n",
       "5.780        FDL58              8\n",
       "20.600       FDG09              8\n",
       "14.700       FDG57              8\n",
       "8.500        FDW13              8\n",
       "                               ..\n",
       "12.800       FDZ50              1\n",
       "5.400        NCT53              1\n",
       "7.685        NCU29              1\n",
       "18.000       FDC23              1\n",
       "6.520        FDE38              1\n",
       "Length: 1555, dtype: int64"
      ]
     },
     "execution_count": 23,
     "metadata": {},
     "output_type": "execute_result"
    }
   ],
   "source": [
    "train[['Item_Weight','Item_Identifier']].value_counts()"
   ]
  },
  {
   "cell_type": "code",
   "execution_count": 24,
   "metadata": {},
   "outputs": [
    {
     "data": {
      "text/plain": [
       "<AxesSubplot:xlabel='Item_Weight'>"
      ]
     },
     "execution_count": 24,
     "metadata": {},
     "output_type": "execute_result"
    },
    {
     "data": {
      "image/png": "[encoded data removed]",
      "text/plain": [
       "<Figure size 432x288 with 1 Axes>"
      ]
     },
     "metadata": {
      "needs_background": "light"
     },
     "output_type": "display_data"
    }
   ],
   "source": [
    "# lets find out Item waight of daily products\n",
    "\n",
    "sns.distplot(train[train.Item_Type=='Dairy']['Item_Weight'].dropna())"
   ]
  },
  {
   "cell_type": "code",
   "execution_count": 25,
   "metadata": {},
   "outputs": [
    {
     "data": {
      "text/plain": [
       "0       9.3\n",
       "831     9.3\n",
       "2599    9.3\n",
       "2643    9.3\n",
       "4874    9.3\n",
       "5413    9.3\n",
       "6696    NaN\n",
       "7543    9.3\n",
       "Name: Item_Weight, dtype: float64"
      ]
     },
     "execution_count": 25,
     "metadata": {},
     "output_type": "execute_result"
    }
   ],
   "source": [
    "# Take Item id and find pattern with weight\n",
    "\n",
    "train[train['Item_Identifier']=='FDA15']['Item_Weight'] "
   ]
  },
  {
   "cell_type": "code",
   "execution_count": 26,
   "metadata": {},
   "outputs": [],
   "source": [
    "# Refil the NaN values in the Item_Weight column based on Item_Identifier -- Every Item Identifier has a same weight"
   ]
  },
  {
   "cell_type": "code",
   "execution_count": 27,
   "metadata": {},
   "outputs": [],
   "source": [
    "train['Item_Weight']=train.groupby('Item_Type')['Item_Weight'].transform(lambda x: x.fillna(x.median()))"
   ]
  },
  {
   "cell_type": "code",
   "execution_count": 28,
   "metadata": {},
   "outputs": [
    {
     "data": {
      "text/plain": [
       "Item_Identifier              0\n",
       "Item_Weight                  0\n",
       "Item_Fat_Content             0\n",
       "Item_Visibility              0\n",
       "Item_Type                    0\n",
       "Item_MRP                     0\n",
       "Outlet_Identifier            0\n",
       "Outlet_Establishment_Year    0\n",
       "Outlet_Size                  0\n",
       "Outlet_Location_Type         0\n",
       "Outlet_Type                  0\n",
       "Item_Outlet_Sales            0\n",
       "dtype: int64"
      ]
     },
     "execution_count": 28,
     "metadata": {},
     "output_type": "execute_result"
    }
   ],
   "source": [
    "train.isnull().sum()"
   ]
  },
  {
   "cell_type": "code",
   "execution_count": 29,
   "metadata": {},
   "outputs": [],
   "source": [
    "train['Price_per_unit']=train['Item_MRP']/train['Item_Weight']"
   ]
  },
  {
   "cell_type": "code",
   "execution_count": 30,
   "metadata": {},
   "outputs": [
    {
     "data": {
      "text/html": [
       "<div>\n",
       "<style scoped>\n",
       "    .dataframe tbody tr th:only-of-type {\n",
       "        vertical-align: middle;\n",
       "    }\n",
       "\n",
       "    .dataframe tbody tr th {\n",
       "        vertical-align: top;\n",
       "    }\n",
       "\n",
       "    .dataframe thead th {\n",
       "        text-align: right;\n",
       "    }\n",
       "</style>\n",
       "<table border=\"1\" class=\"dataframe\">\n",
       "  <thead>\n",
       "    <tr style=\"text-align: right;\">\n",
       "      <th></th>\n",
       "      <th>Item_Identifier</th>\n",
       "      <th>Item_Weight</th>\n",
       "      <th>Item_Fat_Content</th>\n",
       "      <th>Item_Visibility</th>\n",
       "      <th>Item_Type</th>\n",
       "      <th>Item_MRP</th>\n",
       "      <th>Outlet_Identifier</th>\n",
       "      <th>Outlet_Establishment_Year</th>\n",
       "      <th>Outlet_Size</th>\n",
       "      <th>Outlet_Location_Type</th>\n",
       "      <th>Outlet_Type</th>\n",
       "      <th>Item_Outlet_Sales</th>\n",
       "      <th>Price_per_unit</th>\n",
       "    </tr>\n",
       "  </thead>\n",
       "  <tbody>\n",
       "    <tr>\n",
       "      <th>0</th>\n",
       "      <td>FDA15</td>\n",
       "      <td>9.30</td>\n",
       "      <td>Low Fat</td>\n",
       "      <td>0.016047</td>\n",
       "      <td>Dairy</td>\n",
       "      <td>249.8092</td>\n",
       "      <td>OUT049</td>\n",
       "      <td>1999</td>\n",
       "      <td>Medium</td>\n",
       "      <td>Tier 1</td>\n",
       "      <td>Supermarket Type1</td>\n",
       "      <td>3735.1380</td>\n",
       "      <td>26.861204</td>\n",
       "    </tr>\n",
       "    <tr>\n",
       "      <th>1</th>\n",
       "      <td>DRC01</td>\n",
       "      <td>5.92</td>\n",
       "      <td>Regular</td>\n",
       "      <td>0.019278</td>\n",
       "      <td>Soft Drinks</td>\n",
       "      <td>48.2692</td>\n",
       "      <td>OUT018</td>\n",
       "      <td>2009</td>\n",
       "      <td>Medium</td>\n",
       "      <td>Tier 3</td>\n",
       "      <td>Supermarket Type2</td>\n",
       "      <td>443.4228</td>\n",
       "      <td>8.153581</td>\n",
       "    </tr>\n",
       "    <tr>\n",
       "      <th>2</th>\n",
       "      <td>FDN15</td>\n",
       "      <td>17.50</td>\n",
       "      <td>Low Fat</td>\n",
       "      <td>0.016760</td>\n",
       "      <td>Meat</td>\n",
       "      <td>141.6180</td>\n",
       "      <td>OUT049</td>\n",
       "      <td>1999</td>\n",
       "      <td>Medium</td>\n",
       "      <td>Tier 1</td>\n",
       "      <td>Supermarket Type1</td>\n",
       "      <td>2097.2700</td>\n",
       "      <td>8.092457</td>\n",
       "    </tr>\n",
       "    <tr>\n",
       "      <th>3</th>\n",
       "      <td>FDX07</td>\n",
       "      <td>19.20</td>\n",
       "      <td>Regular</td>\n",
       "      <td>0.000000</td>\n",
       "      <td>Fruits and Vegetables</td>\n",
       "      <td>182.0950</td>\n",
       "      <td>OUT010</td>\n",
       "      <td>1998</td>\n",
       "      <td>Medium</td>\n",
       "      <td>Tier 3</td>\n",
       "      <td>Grocery Store</td>\n",
       "      <td>732.3800</td>\n",
       "      <td>9.484115</td>\n",
       "    </tr>\n",
       "    <tr>\n",
       "      <th>4</th>\n",
       "      <td>NCD19</td>\n",
       "      <td>8.93</td>\n",
       "      <td>Low Fat</td>\n",
       "      <td>0.000000</td>\n",
       "      <td>Household</td>\n",
       "      <td>53.8614</td>\n",
       "      <td>OUT013</td>\n",
       "      <td>1987</td>\n",
       "      <td>High</td>\n",
       "      <td>Tier 3</td>\n",
       "      <td>Supermarket Type1</td>\n",
       "      <td>994.7052</td>\n",
       "      <td>6.031512</td>\n",
       "    </tr>\n",
       "  </tbody>\n",
       "</table>\n",
       "</div>"
      ],
      "text/plain": [
       "  Item_Identifier  Item_Weight Item_Fat_Content  Item_Visibility  \\\n",
       "0           FDA15         9.30          Low Fat         0.016047   \n",
       "1           DRC01         5.92          Regular         0.019278   \n",
       "2           FDN15        17.50          Low Fat         0.016760   \n",
       "3           FDX07        19.20          Regular         0.000000   \n",
       "4           NCD19         8.93          Low Fat         0.000000   \n",
       "\n",
       "               Item_Type  Item_MRP Outlet_Identifier  \\\n",
       "0                  Dairy  249.8092            OUT049   \n",
       "1            Soft Drinks   48.2692            OUT018   \n",
       "2                   Meat  141.6180            OUT049   \n",
       "3  Fruits and Vegetables  182.0950            OUT010   \n",
       "4              Household   53.8614            OUT013   \n",
       "\n",
       "   Outlet_Establishment_Year Outlet_Size Outlet_Location_Type  \\\n",
       "0                       1999      Medium               Tier 1   \n",
       "1                       2009      Medium               Tier 3   \n",
       "2                       1999      Medium               Tier 1   \n",
       "3                       1998      Medium               Tier 3   \n",
       "4                       1987        High               Tier 3   \n",
       "\n",
       "         Outlet_Type  Item_Outlet_Sales  Price_per_unit  \n",
       "0  Supermarket Type1          3735.1380       26.861204  \n",
       "1  Supermarket Type2           443.4228        8.153581  \n",
       "2  Supermarket Type1          2097.2700        8.092457  \n",
       "3      Grocery Store           732.3800        9.484115  \n",
       "4  Supermarket Type1           994.7052        6.031512  "
      ]
     },
     "execution_count": 30,
     "metadata": {},
     "output_type": "execute_result"
    }
   ],
   "source": [
    "train.head()"
   ]
  },
  {
   "cell_type": "code",
   "execution_count": 31,
   "metadata": {},
   "outputs": [],
   "source": [
    "train['Item_Id']=train['Item_Identifier'].str[:2]"
   ]
  },
  {
   "cell_type": "code",
   "execution_count": 32,
   "metadata": {},
   "outputs": [
    {
     "data": {
      "text/html": [
       "<div>\n",
       "<style scoped>\n",
       "    .dataframe tbody tr th:only-of-type {\n",
       "        vertical-align: middle;\n",
       "    }\n",
       "\n",
       "    .dataframe tbody tr th {\n",
       "        vertical-align: top;\n",
       "    }\n",
       "\n",
       "    .dataframe thead th {\n",
       "        text-align: right;\n",
       "    }\n",
       "</style>\n",
       "<table border=\"1\" class=\"dataframe\">\n",
       "  <thead>\n",
       "    <tr style=\"text-align: right;\">\n",
       "      <th></th>\n",
       "      <th>Item_Identifier</th>\n",
       "      <th>Item_Weight</th>\n",
       "      <th>Item_Fat_Content</th>\n",
       "      <th>Item_Visibility</th>\n",
       "      <th>Item_Type</th>\n",
       "      <th>Item_MRP</th>\n",
       "      <th>Outlet_Identifier</th>\n",
       "      <th>Outlet_Establishment_Year</th>\n",
       "      <th>Outlet_Size</th>\n",
       "      <th>Outlet_Location_Type</th>\n",
       "      <th>Outlet_Type</th>\n",
       "      <th>Item_Outlet_Sales</th>\n",
       "      <th>Price_per_unit</th>\n",
       "      <th>Item_Id</th>\n",
       "    </tr>\n",
       "  </thead>\n",
       "  <tbody>\n",
       "    <tr>\n",
       "      <th>0</th>\n",
       "      <td>FDA15</td>\n",
       "      <td>9.30</td>\n",
       "      <td>Low Fat</td>\n",
       "      <td>0.016047</td>\n",
       "      <td>Dairy</td>\n",
       "      <td>249.8092</td>\n",
       "      <td>OUT049</td>\n",
       "      <td>1999</td>\n",
       "      <td>Medium</td>\n",
       "      <td>Tier 1</td>\n",
       "      <td>Supermarket Type1</td>\n",
       "      <td>3735.1380</td>\n",
       "      <td>26.861204</td>\n",
       "      <td>FD</td>\n",
       "    </tr>\n",
       "    <tr>\n",
       "      <th>1</th>\n",
       "      <td>DRC01</td>\n",
       "      <td>5.92</td>\n",
       "      <td>Regular</td>\n",
       "      <td>0.019278</td>\n",
       "      <td>Soft Drinks</td>\n",
       "      <td>48.2692</td>\n",
       "      <td>OUT018</td>\n",
       "      <td>2009</td>\n",
       "      <td>Medium</td>\n",
       "      <td>Tier 3</td>\n",
       "      <td>Supermarket Type2</td>\n",
       "      <td>443.4228</td>\n",
       "      <td>8.153581</td>\n",
       "      <td>DR</td>\n",
       "    </tr>\n",
       "    <tr>\n",
       "      <th>2</th>\n",
       "      <td>FDN15</td>\n",
       "      <td>17.50</td>\n",
       "      <td>Low Fat</td>\n",
       "      <td>0.016760</td>\n",
       "      <td>Meat</td>\n",
       "      <td>141.6180</td>\n",
       "      <td>OUT049</td>\n",
       "      <td>1999</td>\n",
       "      <td>Medium</td>\n",
       "      <td>Tier 1</td>\n",
       "      <td>Supermarket Type1</td>\n",
       "      <td>2097.2700</td>\n",
       "      <td>8.092457</td>\n",
       "      <td>FD</td>\n",
       "    </tr>\n",
       "    <tr>\n",
       "      <th>3</th>\n",
       "      <td>FDX07</td>\n",
       "      <td>19.20</td>\n",
       "      <td>Regular</td>\n",
       "      <td>0.000000</td>\n",
       "      <td>Fruits and Vegetables</td>\n",
       "      <td>182.0950</td>\n",
       "      <td>OUT010</td>\n",
       "      <td>1998</td>\n",
       "      <td>Medium</td>\n",
       "      <td>Tier 3</td>\n",
       "      <td>Grocery Store</td>\n",
       "      <td>732.3800</td>\n",
       "      <td>9.484115</td>\n",
       "      <td>FD</td>\n",
       "    </tr>\n",
       "    <tr>\n",
       "      <th>4</th>\n",
       "      <td>NCD19</td>\n",
       "      <td>8.93</td>\n",
       "      <td>Low Fat</td>\n",
       "      <td>0.000000</td>\n",
       "      <td>Household</td>\n",
       "      <td>53.8614</td>\n",
       "      <td>OUT013</td>\n",
       "      <td>1987</td>\n",
       "      <td>High</td>\n",
       "      <td>Tier 3</td>\n",
       "      <td>Supermarket Type1</td>\n",
       "      <td>994.7052</td>\n",
       "      <td>6.031512</td>\n",
       "      <td>NC</td>\n",
       "    </tr>\n",
       "  </tbody>\n",
       "</table>\n",
       "</div>"
      ],
      "text/plain": [
       "  Item_Identifier  Item_Weight Item_Fat_Content  Item_Visibility  \\\n",
       "0           FDA15         9.30          Low Fat         0.016047   \n",
       "1           DRC01         5.92          Regular         0.019278   \n",
       "2           FDN15        17.50          Low Fat         0.016760   \n",
       "3           FDX07        19.20          Regular         0.000000   \n",
       "4           NCD19         8.93          Low Fat         0.000000   \n",
       "\n",
       "               Item_Type  Item_MRP Outlet_Identifier  \\\n",
       "0                  Dairy  249.8092            OUT049   \n",
       "1            Soft Drinks   48.2692            OUT018   \n",
       "2                   Meat  141.6180            OUT049   \n",
       "3  Fruits and Vegetables  182.0950            OUT010   \n",
       "4              Household   53.8614            OUT013   \n",
       "\n",
       "   Outlet_Establishment_Year Outlet_Size Outlet_Location_Type  \\\n",
       "0                       1999      Medium               Tier 1   \n",
       "1                       2009      Medium               Tier 3   \n",
       "2                       1999      Medium               Tier 1   \n",
       "3                       1998      Medium               Tier 3   \n",
       "4                       1987        High               Tier 3   \n",
       "\n",
       "         Outlet_Type  Item_Outlet_Sales  Price_per_unit Item_Id  \n",
       "0  Supermarket Type1          3735.1380       26.861204      FD  \n",
       "1  Supermarket Type2           443.4228        8.153581      DR  \n",
       "2  Supermarket Type1          2097.2700        8.092457      FD  \n",
       "3      Grocery Store           732.3800        9.484115      FD  \n",
       "4  Supermarket Type1           994.7052        6.031512      NC  "
      ]
     },
     "execution_count": 32,
     "metadata": {},
     "output_type": "execute_result"
    }
   ],
   "source": [
    "train.head()"
   ]
  },
  {
   "cell_type": "code",
   "execution_count": 33,
   "metadata": {},
   "outputs": [],
   "source": [
    "perishables=['Dairy','Meat', 'Fruits and Vegetables','Breakfast','Breads', 'Starchy Foods', 'Seafood']"
   ]
  },
  {
   "cell_type": "code",
   "execution_count": 34,
   "metadata": {},
   "outputs": [],
   "source": [
    "def perish(x):\n",
    "    if x in perishables:\n",
    "        return('Perishables')\n",
    "    else:\n",
    "        return('Non Perishables')"
   ]
  },
  {
   "cell_type": "code",
   "execution_count": 35,
   "metadata": {},
   "outputs": [],
   "source": [
    "train['Item_Type_cat']=train['Item_Type'].apply(perish)"
   ]
  },
  {
   "cell_type": "code",
   "execution_count": 36,
   "metadata": {},
   "outputs": [
    {
     "data": {
      "text/html": [
       "<div>\n",
       "<style scoped>\n",
       "    .dataframe tbody tr th:only-of-type {\n",
       "        vertical-align: middle;\n",
       "    }\n",
       "\n",
       "    .dataframe tbody tr th {\n",
       "        vertical-align: top;\n",
       "    }\n",
       "\n",
       "    .dataframe thead th {\n",
       "        text-align: right;\n",
       "    }\n",
       "</style>\n",
       "<table border=\"1\" class=\"dataframe\">\n",
       "  <thead>\n",
       "    <tr style=\"text-align: right;\">\n",
       "      <th></th>\n",
       "      <th>Item_Identifier</th>\n",
       "      <th>Item_Weight</th>\n",
       "      <th>Item_Fat_Content</th>\n",
       "      <th>Item_Visibility</th>\n",
       "      <th>Item_Type</th>\n",
       "      <th>Item_MRP</th>\n",
       "      <th>Outlet_Identifier</th>\n",
       "      <th>Outlet_Establishment_Year</th>\n",
       "      <th>Outlet_Size</th>\n",
       "      <th>Outlet_Location_Type</th>\n",
       "      <th>Outlet_Type</th>\n",
       "      <th>Item_Outlet_Sales</th>\n",
       "      <th>Price_per_unit</th>\n",
       "      <th>Item_Id</th>\n",
       "      <th>Item_Type_cat</th>\n",
       "    </tr>\n",
       "  </thead>\n",
       "  <tbody>\n",
       "    <tr>\n",
       "      <th>0</th>\n",
       "      <td>FDA15</td>\n",
       "      <td>9.30</td>\n",
       "      <td>Low Fat</td>\n",
       "      <td>0.016047</td>\n",
       "      <td>Dairy</td>\n",
       "      <td>249.8092</td>\n",
       "      <td>OUT049</td>\n",
       "      <td>1999</td>\n",
       "      <td>Medium</td>\n",
       "      <td>Tier 1</td>\n",
       "      <td>Supermarket Type1</td>\n",
       "      <td>3735.1380</td>\n",
       "      <td>26.861204</td>\n",
       "      <td>FD</td>\n",
       "      <td>Perishables</td>\n",
       "    </tr>\n",
       "    <tr>\n",
       "      <th>1</th>\n",
       "      <td>DRC01</td>\n",
       "      <td>5.92</td>\n",
       "      <td>Regular</td>\n",
       "      <td>0.019278</td>\n",
       "      <td>Soft Drinks</td>\n",
       "      <td>48.2692</td>\n",
       "      <td>OUT018</td>\n",
       "      <td>2009</td>\n",
       "      <td>Medium</td>\n",
       "      <td>Tier 3</td>\n",
       "      <td>Supermarket Type2</td>\n",
       "      <td>443.4228</td>\n",
       "      <td>8.153581</td>\n",
       "      <td>DR</td>\n",
       "      <td>Non Perishables</td>\n",
       "    </tr>\n",
       "    <tr>\n",
       "      <th>2</th>\n",
       "      <td>FDN15</td>\n",
       "      <td>17.50</td>\n",
       "      <td>Low Fat</td>\n",
       "      <td>0.016760</td>\n",
       "      <td>Meat</td>\n",
       "      <td>141.6180</td>\n",
       "      <td>OUT049</td>\n",
       "      <td>1999</td>\n",
       "      <td>Medium</td>\n",
       "      <td>Tier 1</td>\n",
       "      <td>Supermarket Type1</td>\n",
       "      <td>2097.2700</td>\n",
       "      <td>8.092457</td>\n",
       "      <td>FD</td>\n",
       "      <td>Perishables</td>\n",
       "    </tr>\n",
       "    <tr>\n",
       "      <th>3</th>\n",
       "      <td>FDX07</td>\n",
       "      <td>19.20</td>\n",
       "      <td>Regular</td>\n",
       "      <td>0.000000</td>\n",
       "      <td>Fruits and Vegetables</td>\n",
       "      <td>182.0950</td>\n",
       "      <td>OUT010</td>\n",
       "      <td>1998</td>\n",
       "      <td>Medium</td>\n",
       "      <td>Tier 3</td>\n",
       "      <td>Grocery Store</td>\n",
       "      <td>732.3800</td>\n",
       "      <td>9.484115</td>\n",
       "      <td>FD</td>\n",
       "      <td>Perishables</td>\n",
       "    </tr>\n",
       "    <tr>\n",
       "      <th>4</th>\n",
       "      <td>NCD19</td>\n",
       "      <td>8.93</td>\n",
       "      <td>Low Fat</td>\n",
       "      <td>0.000000</td>\n",
       "      <td>Household</td>\n",
       "      <td>53.8614</td>\n",
       "      <td>OUT013</td>\n",
       "      <td>1987</td>\n",
       "      <td>High</td>\n",
       "      <td>Tier 3</td>\n",
       "      <td>Supermarket Type1</td>\n",
       "      <td>994.7052</td>\n",
       "      <td>6.031512</td>\n",
       "      <td>NC</td>\n",
       "      <td>Non Perishables</td>\n",
       "    </tr>\n",
       "  </tbody>\n",
       "</table>\n",
       "</div>"
      ],
      "text/plain": [
       "  Item_Identifier  Item_Weight Item_Fat_Content  Item_Visibility  \\\n",
       "0           FDA15         9.30          Low Fat         0.016047   \n",
       "1           DRC01         5.92          Regular         0.019278   \n",
       "2           FDN15        17.50          Low Fat         0.016760   \n",
       "3           FDX07        19.20          Regular         0.000000   \n",
       "4           NCD19         8.93          Low Fat         0.000000   \n",
       "\n",
       "               Item_Type  Item_MRP Outlet_Identifier  \\\n",
       "0                  Dairy  249.8092            OUT049   \n",
       "1            Soft Drinks   48.2692            OUT018   \n",
       "2                   Meat  141.6180            OUT049   \n",
       "3  Fruits and Vegetables  182.0950            OUT010   \n",
       "4              Household   53.8614            OUT013   \n",
       "\n",
       "   Outlet_Establishment_Year Outlet_Size Outlet_Location_Type  \\\n",
       "0                       1999      Medium               Tier 1   \n",
       "1                       2009      Medium               Tier 3   \n",
       "2                       1999      Medium               Tier 1   \n",
       "3                       1998      Medium               Tier 3   \n",
       "4                       1987        High               Tier 3   \n",
       "\n",
       "         Outlet_Type  Item_Outlet_Sales  Price_per_unit Item_Id  \\\n",
       "0  Supermarket Type1          3735.1380       26.861204      FD   \n",
       "1  Supermarket Type2           443.4228        8.153581      DR   \n",
       "2  Supermarket Type1          2097.2700        8.092457      FD   \n",
       "3      Grocery Store           732.3800        9.484115      FD   \n",
       "4  Supermarket Type1           994.7052        6.031512      NC   \n",
       "\n",
       "     Item_Type_cat  \n",
       "0      Perishables  \n",
       "1  Non Perishables  \n",
       "2      Perishables  \n",
       "3      Perishables  \n",
       "4  Non Perishables  "
      ]
     },
     "execution_count": 36,
     "metadata": {},
     "output_type": "execute_result"
    }
   ],
   "source": [
    "train.head()"
   ]
  },
  {
   "cell_type": "code",
   "execution_count": 37,
   "metadata": {},
   "outputs": [
    {
     "data": {
      "text/plain": [
       "<matplotlib.collections.PathCollection at 0x135b129af88>"
      ]
     },
     "execution_count": 37,
     "metadata": {},
     "output_type": "execute_result"
    },
    {
     "data": {
      "image/png": "[encoded data removed]",
      "text/plain": [
       "<Figure size 720x504 with 1 Axes>"
      ]
     },
     "metadata": {
      "needs_background": "light"
     },
     "output_type": "display_data"
    }
   ],
   "source": [
    "# Lets Plot Price vs Sale\n",
    "plt.figure(figsize=[10,7])\n",
    "plt.scatter(train['Price_per_unit'],train['Item_Outlet_Sales'])"
   ]
  },
  {
   "cell_type": "code",
   "execution_count": 39,
   "metadata": {},
   "outputs": [],
   "source": [
    "train['Outlet_vintage']=2013 - train['Outlet_Establishment_Year']"
   ]
  },
  {
   "cell_type": "code",
   "execution_count": 42,
   "metadata": {},
   "outputs": [
    {
     "data": {
      "text/plain": [
       "<matplotlib.collections.PathCollection at 0x135b16b0988>"
      ]
     },
     "execution_count": 42,
     "metadata": {},
     "output_type": "execute_result"
    },
    {
     "data": {
      "image/png": "[encoded data removed]",
      "text/plain": [
       "<Figure size 720x504 with 1 Axes>"
      ]
     },
     "metadata": {
      "needs_background": "light"
     },
     "output_type": "display_data"
    }
   ],
   "source": [
    "plt.figure(figsize=[10,7])\n",
    "plt.scatter(train['Outlet_vintage'],train['Item_Outlet_Sales'])"
   ]
  },
  {
   "cell_type": "code",
   "execution_count": 43,
   "metadata": {},
   "outputs": [],
   "source": [
    "train=train.drop(['Item_Identifier','Outlet_Establishment_Year'],axis=1)"
   ]
  },
  {
   "cell_type": "code",
   "execution_count": 45,
   "metadata": {},
   "outputs": [],
   "source": [
    "train=train.drop('Outlet_Identifier',axis=1)"
   ]
  },
  {
   "cell_type": "code",
   "execution_count": 46,
   "metadata": {},
   "outputs": [
    {
     "data": {
      "text/html": [
       "<div>\n",
       "<style scoped>\n",
       "    .dataframe tbody tr th:only-of-type {\n",
       "        vertical-align: middle;\n",
       "    }\n",
       "\n",
       "    .dataframe tbody tr th {\n",
       "        vertical-align: top;\n",
       "    }\n",
       "\n",
       "    .dataframe thead th {\n",
       "        text-align: right;\n",
       "    }\n",
       "</style>\n",
       "<table border=\"1\" class=\"dataframe\">\n",
       "  <thead>\n",
       "    <tr style=\"text-align: right;\">\n",
       "      <th></th>\n",
       "      <th>Item_Weight</th>\n",
       "      <th>Item_Fat_Content</th>\n",
       "      <th>Item_Visibility</th>\n",
       "      <th>Item_Type</th>\n",
       "      <th>Item_MRP</th>\n",
       "      <th>Outlet_Size</th>\n",
       "      <th>Outlet_Location_Type</th>\n",
       "      <th>Outlet_Type</th>\n",
       "      <th>Item_Outlet_Sales</th>\n",
       "      <th>Price_per_unit</th>\n",
       "      <th>Item_Id</th>\n",
       "      <th>Item_Type_cat</th>\n",
       "      <th>Outlet_vintage</th>\n",
       "    </tr>\n",
       "  </thead>\n",
       "  <tbody>\n",
       "    <tr>\n",
       "      <th>0</th>\n",
       "      <td>9.30</td>\n",
       "      <td>Low Fat</td>\n",
       "      <td>0.016047</td>\n",
       "      <td>Dairy</td>\n",
       "      <td>249.8092</td>\n",
       "      <td>Medium</td>\n",
       "      <td>Tier 1</td>\n",
       "      <td>Supermarket Type1</td>\n",
       "      <td>3735.1380</td>\n",
       "      <td>26.861204</td>\n",
       "      <td>FD</td>\n",
       "      <td>Perishables</td>\n",
       "      <td>14</td>\n",
       "    </tr>\n",
       "    <tr>\n",
       "      <th>1</th>\n",
       "      <td>5.92</td>\n",
       "      <td>Regular</td>\n",
       "      <td>0.019278</td>\n",
       "      <td>Soft Drinks</td>\n",
       "      <td>48.2692</td>\n",
       "      <td>Medium</td>\n",
       "      <td>Tier 3</td>\n",
       "      <td>Supermarket Type2</td>\n",
       "      <td>443.4228</td>\n",
       "      <td>8.153581</td>\n",
       "      <td>DR</td>\n",
       "      <td>Non Perishables</td>\n",
       "      <td>4</td>\n",
       "    </tr>\n",
       "    <tr>\n",
       "      <th>2</th>\n",
       "      <td>17.50</td>\n",
       "      <td>Low Fat</td>\n",
       "      <td>0.016760</td>\n",
       "      <td>Meat</td>\n",
       "      <td>141.6180</td>\n",
       "      <td>Medium</td>\n",
       "      <td>Tier 1</td>\n",
       "      <td>Supermarket Type1</td>\n",
       "      <td>2097.2700</td>\n",
       "      <td>8.092457</td>\n",
       "      <td>FD</td>\n",
       "      <td>Perishables</td>\n",
       "      <td>14</td>\n",
       "    </tr>\n",
       "    <tr>\n",
       "      <th>3</th>\n",
       "      <td>19.20</td>\n",
       "      <td>Regular</td>\n",
       "      <td>0.000000</td>\n",
       "      <td>Fruits and Vegetables</td>\n",
       "      <td>182.0950</td>\n",
       "      <td>Medium</td>\n",
       "      <td>Tier 3</td>\n",
       "      <td>Grocery Store</td>\n",
       "      <td>732.3800</td>\n",
       "      <td>9.484115</td>\n",
       "      <td>FD</td>\n",
       "      <td>Perishables</td>\n",
       "      <td>15</td>\n",
       "    </tr>\n",
       "    <tr>\n",
       "      <th>4</th>\n",
       "      <td>8.93</td>\n",
       "      <td>Low Fat</td>\n",
       "      <td>0.000000</td>\n",
       "      <td>Household</td>\n",
       "      <td>53.8614</td>\n",
       "      <td>High</td>\n",
       "      <td>Tier 3</td>\n",
       "      <td>Supermarket Type1</td>\n",
       "      <td>994.7052</td>\n",
       "      <td>6.031512</td>\n",
       "      <td>NC</td>\n",
       "      <td>Non Perishables</td>\n",
       "      <td>26</td>\n",
       "    </tr>\n",
       "  </tbody>\n",
       "</table>\n",
       "</div>"
      ],
      "text/plain": [
       "   Item_Weight Item_Fat_Content  Item_Visibility              Item_Type  \\\n",
       "0         9.30          Low Fat         0.016047                  Dairy   \n",
       "1         5.92          Regular         0.019278            Soft Drinks   \n",
       "2        17.50          Low Fat         0.016760                   Meat   \n",
       "3        19.20          Regular         0.000000  Fruits and Vegetables   \n",
       "4         8.93          Low Fat         0.000000              Household   \n",
       "\n",
       "   Item_MRP Outlet_Size Outlet_Location_Type        Outlet_Type  \\\n",
       "0  249.8092      Medium               Tier 1  Supermarket Type1   \n",
       "1   48.2692      Medium               Tier 3  Supermarket Type2   \n",
       "2  141.6180      Medium               Tier 1  Supermarket Type1   \n",
       "3  182.0950      Medium               Tier 3      Grocery Store   \n",
       "4   53.8614        High               Tier 3  Supermarket Type1   \n",
       "\n",
       "   Item_Outlet_Sales  Price_per_unit Item_Id    Item_Type_cat  Outlet_vintage  \n",
       "0          3735.1380       26.861204      FD      Perishables              14  \n",
       "1           443.4228        8.153581      DR  Non Perishables               4  \n",
       "2          2097.2700        8.092457      FD      Perishables              14  \n",
       "3           732.3800        9.484115      FD      Perishables              15  \n",
       "4           994.7052        6.031512      NC  Non Perishables              26  "
      ]
     },
     "execution_count": 46,
     "metadata": {},
     "output_type": "execute_result"
    }
   ],
   "source": [
    "train.head()"
   ]
  },
  {
   "cell_type": "code",
   "execution_count": 47,
   "metadata": {},
   "outputs": [],
   "source": [
    "# Applying One hot Encodeing on Item_Type\n",
    "\n",
    "train_dummy=pd.get_dummies(train)"
   ]
  },
  {
   "cell_type": "code",
   "execution_count": 48,
   "metadata": {},
   "outputs": [
    {
     "data": {
      "text/html": [
       "<div>\n",
       "<style scoped>\n",
       "    .dataframe tbody tr th:only-of-type {\n",
       "        vertical-align: middle;\n",
       "    }\n",
       "\n",
       "    .dataframe tbody tr th {\n",
       "        vertical-align: top;\n",
       "    }\n",
       "\n",
       "    .dataframe thead th {\n",
       "        text-align: right;\n",
       "    }\n",
       "</style>\n",
       "<table border=\"1\" class=\"dataframe\">\n",
       "  <thead>\n",
       "    <tr style=\"text-align: right;\">\n",
       "      <th></th>\n",
       "      <th>Item_Weight</th>\n",
       "      <th>Item_Visibility</th>\n",
       "      <th>Item_MRP</th>\n",
       "      <th>Item_Outlet_Sales</th>\n",
       "      <th>Price_per_unit</th>\n",
       "      <th>Outlet_vintage</th>\n",
       "      <th>Item_Fat_Content_Low Fat</th>\n",
       "      <th>Item_Fat_Content_Regular</th>\n",
       "      <th>Item_Type_Baking Goods</th>\n",
       "      <th>Item_Type_Breads</th>\n",
       "      <th>...</th>\n",
       "      <th>Outlet_Location_Type_Tier 3</th>\n",
       "      <th>Outlet_Type_Grocery Store</th>\n",
       "      <th>Outlet_Type_Supermarket Type1</th>\n",
       "      <th>Outlet_Type_Supermarket Type2</th>\n",
       "      <th>Outlet_Type_Supermarket Type3</th>\n",
       "      <th>Item_Id_DR</th>\n",
       "      <th>Item_Id_FD</th>\n",
       "      <th>Item_Id_NC</th>\n",
       "      <th>Item_Type_cat_Non Perishables</th>\n",
       "      <th>Item_Type_cat_Perishables</th>\n",
       "    </tr>\n",
       "  </thead>\n",
       "  <tbody>\n",
       "    <tr>\n",
       "      <th>0</th>\n",
       "      <td>9.30</td>\n",
       "      <td>0.016047</td>\n",
       "      <td>249.8092</td>\n",
       "      <td>3735.1380</td>\n",
       "      <td>26.861204</td>\n",
       "      <td>14</td>\n",
       "      <td>1</td>\n",
       "      <td>0</td>\n",
       "      <td>0</td>\n",
       "      <td>0</td>\n",
       "      <td>...</td>\n",
       "      <td>0</td>\n",
       "      <td>0</td>\n",
       "      <td>1</td>\n",
       "      <td>0</td>\n",
       "      <td>0</td>\n",
       "      <td>0</td>\n",
       "      <td>1</td>\n",
       "      <td>0</td>\n",
       "      <td>0</td>\n",
       "      <td>1</td>\n",
       "    </tr>\n",
       "    <tr>\n",
       "      <th>1</th>\n",
       "      <td>5.92</td>\n",
       "      <td>0.019278</td>\n",
       "      <td>48.2692</td>\n",
       "      <td>443.4228</td>\n",
       "      <td>8.153581</td>\n",
       "      <td>4</td>\n",
       "      <td>0</td>\n",
       "      <td>1</td>\n",
       "      <td>0</td>\n",
       "      <td>0</td>\n",
       "      <td>...</td>\n",
       "      <td>1</td>\n",
       "      <td>0</td>\n",
       "      <td>0</td>\n",
       "      <td>1</td>\n",
       "      <td>0</td>\n",
       "      <td>1</td>\n",
       "      <td>0</td>\n",
       "      <td>0</td>\n",
       "      <td>1</td>\n",
       "      <td>0</td>\n",
       "    </tr>\n",
       "    <tr>\n",
       "      <th>2</th>\n",
       "      <td>17.50</td>\n",
       "      <td>0.016760</td>\n",
       "      <td>141.6180</td>\n",
       "      <td>2097.2700</td>\n",
       "      <td>8.092457</td>\n",
       "      <td>14</td>\n",
       "      <td>1</td>\n",
       "      <td>0</td>\n",
       "      <td>0</td>\n",
       "      <td>0</td>\n",
       "      <td>...</td>\n",
       "      <td>0</td>\n",
       "      <td>0</td>\n",
       "      <td>1</td>\n",
       "      <td>0</td>\n",
       "      <td>0</td>\n",
       "      <td>0</td>\n",
       "      <td>1</td>\n",
       "      <td>0</td>\n",
       "      <td>0</td>\n",
       "      <td>1</td>\n",
       "    </tr>\n",
       "    <tr>\n",
       "      <th>3</th>\n",
       "      <td>19.20</td>\n",
       "      <td>0.000000</td>\n",
       "      <td>182.0950</td>\n",
       "      <td>732.3800</td>\n",
       "      <td>9.484115</td>\n",
       "      <td>15</td>\n",
       "      <td>0</td>\n",
       "      <td>1</td>\n",
       "      <td>0</td>\n",
       "      <td>0</td>\n",
       "      <td>...</td>\n",
       "      <td>1</td>\n",
       "      <td>1</td>\n",
       "      <td>0</td>\n",
       "      <td>0</td>\n",
       "      <td>0</td>\n",
       "      <td>0</td>\n",
       "      <td>1</td>\n",
       "      <td>0</td>\n",
       "      <td>0</td>\n",
       "      <td>1</td>\n",
       "    </tr>\n",
       "    <tr>\n",
       "      <th>4</th>\n",
       "      <td>8.93</td>\n",
       "      <td>0.000000</td>\n",
       "      <td>53.8614</td>\n",
       "      <td>994.7052</td>\n",
       "      <td>6.031512</td>\n",
       "      <td>26</td>\n",
       "      <td>1</td>\n",
       "      <td>0</td>\n",
       "      <td>0</td>\n",
       "      <td>0</td>\n",
       "      <td>...</td>\n",
       "      <td>1</td>\n",
       "      <td>0</td>\n",
       "      <td>1</td>\n",
       "      <td>0</td>\n",
       "      <td>0</td>\n",
       "      <td>0</td>\n",
       "      <td>0</td>\n",
       "      <td>1</td>\n",
       "      <td>1</td>\n",
       "      <td>0</td>\n",
       "    </tr>\n",
       "  </tbody>\n",
       "</table>\n",
       "<p>5 rows × 39 columns</p>\n",
       "</div>"
      ],
      "text/plain": [
       "   Item_Weight  Item_Visibility  Item_MRP  Item_Outlet_Sales  Price_per_unit  \\\n",
       "0         9.30         0.016047  249.8092          3735.1380       26.861204   \n",
       "1         5.92         0.019278   48.2692           443.4228        8.153581   \n",
       "2        17.50         0.016760  141.6180          2097.2700        8.092457   \n",
       "3        19.20         0.000000  182.0950           732.3800        9.484115   \n",
       "4         8.93         0.000000   53.8614           994.7052        6.031512   \n",
       "\n",
       "   Outlet_vintage  Item_Fat_Content_Low Fat  Item_Fat_Content_Regular  \\\n",
       "0              14                         1                         0   \n",
       "1               4                         0                         1   \n",
       "2              14                         1                         0   \n",
       "3              15                         0                         1   \n",
       "4              26                         1                         0   \n",
       "\n",
       "   Item_Type_Baking Goods  Item_Type_Breads  ...  Outlet_Location_Type_Tier 3  \\\n",
       "0                       0                 0  ...                            0   \n",
       "1                       0                 0  ...                            1   \n",
       "2                       0                 0  ...                            0   \n",
       "3                       0                 0  ...                            1   \n",
       "4                       0                 0  ...                            1   \n",
       "\n",
       "   Outlet_Type_Grocery Store  Outlet_Type_Supermarket Type1  \\\n",
       "0                          0                              1   \n",
       "1                          0                              0   \n",
       "2                          0                              1   \n",
       "3                          1                              0   \n",
       "4                          0                              1   \n",
       "\n",
       "   Outlet_Type_Supermarket Type2  Outlet_Type_Supermarket Type3  Item_Id_DR  \\\n",
       "0                              0                              0           0   \n",
       "1                              1                              0           1   \n",
       "2                              0                              0           0   \n",
       "3                              0                              0           0   \n",
       "4                              0                              0           0   \n",
       "\n",
       "   Item_Id_FD  Item_Id_NC  Item_Type_cat_Non Perishables  \\\n",
       "0           1           0                              0   \n",
       "1           0           0                              1   \n",
       "2           1           0                              0   \n",
       "3           1           0                              0   \n",
       "4           0           1                              1   \n",
       "\n",
       "   Item_Type_cat_Perishables  \n",
       "0                          1  \n",
       "1                          0  \n",
       "2                          1  \n",
       "3                          1  \n",
       "4                          0  \n",
       "\n",
       "[5 rows x 39 columns]"
      ]
     },
     "execution_count": 48,
     "metadata": {},
     "output_type": "execute_result"
    }
   ],
   "source": [
    "train_dummy.head()"
   ]
  },
  {
   "cell_type": "code",
   "execution_count": 49,
   "metadata": {},
   "outputs": [],
   "source": [
    "from sklearn.preprocessing import StandardScaler"
   ]
  },
  {
   "cell_type": "code",
   "execution_count": 50,
   "metadata": {},
   "outputs": [],
   "source": [
    "sc = StandardScaler()"
   ]
  },
  {
   "cell_type": "code",
   "execution_count": 54,
   "metadata": {},
   "outputs": [],
   "source": [
    "scaled_train=pd.DataFrame(sc.fit_transform(train_dummy),columns=train_dummy.columns)"
   ]
  },
  {
   "cell_type": "code",
   "execution_count": 55,
   "metadata": {},
   "outputs": [
    {
     "data": {
      "text/html": [
       "<div>\n",
       "<style scoped>\n",
       "    .dataframe tbody tr th:only-of-type {\n",
       "        vertical-align: middle;\n",
       "    }\n",
       "\n",
       "    .dataframe tbody tr th {\n",
       "        vertical-align: top;\n",
       "    }\n",
       "\n",
       "    .dataframe thead th {\n",
       "        text-align: right;\n",
       "    }\n",
       "</style>\n",
       "<table border=\"1\" class=\"dataframe\">\n",
       "  <thead>\n",
       "    <tr style=\"text-align: right;\">\n",
       "      <th></th>\n",
       "      <th>Item_Weight</th>\n",
       "      <th>Item_Visibility</th>\n",
       "      <th>Item_MRP</th>\n",
       "      <th>Item_Outlet_Sales</th>\n",
       "      <th>Price_per_unit</th>\n",
       "      <th>Outlet_vintage</th>\n",
       "      <th>Item_Fat_Content_Low Fat</th>\n",
       "      <th>Item_Fat_Content_Regular</th>\n",
       "      <th>Item_Type_Baking Goods</th>\n",
       "      <th>Item_Type_Breads</th>\n",
       "      <th>...</th>\n",
       "      <th>Outlet_Location_Type_Tier 3</th>\n",
       "      <th>Outlet_Type_Grocery Store</th>\n",
       "      <th>Outlet_Type_Supermarket Type1</th>\n",
       "      <th>Outlet_Type_Supermarket Type2</th>\n",
       "      <th>Outlet_Type_Supermarket Type3</th>\n",
       "      <th>Item_Id_DR</th>\n",
       "      <th>Item_Id_FD</th>\n",
       "      <th>Item_Id_NC</th>\n",
       "      <th>Item_Type_cat_Non Perishables</th>\n",
       "      <th>Item_Type_cat_Perishables</th>\n",
       "    </tr>\n",
       "  </thead>\n",
       "  <tbody>\n",
       "    <tr>\n",
       "      <th>0</th>\n",
       "      <td>-0.828408</td>\n",
       "      <td>-0.970732</td>\n",
       "      <td>1.747454</td>\n",
       "      <td>0.910601</td>\n",
       "      <td>1.895649</td>\n",
       "      <td>-0.139541</td>\n",
       "      <td>0.738147</td>\n",
       "      <td>-0.738147</td>\n",
       "      <td>-0.286855</td>\n",
       "      <td>-0.174193</td>\n",
       "      <td>...</td>\n",
       "      <td>-0.804732</td>\n",
       "      <td>-0.381529</td>\n",
       "      <td>0.726802</td>\n",
       "      <td>-0.349551</td>\n",
       "      <td>-0.351028</td>\n",
       "      <td>-0.321627</td>\n",
       "      <td>0.625708</td>\n",
       "      <td>-0.480558</td>\n",
       "      <td>-1.388112</td>\n",
       "      <td>1.388112</td>\n",
       "    </tr>\n",
       "    <tr>\n",
       "      <th>1</th>\n",
       "      <td>-1.625364</td>\n",
       "      <td>-0.908111</td>\n",
       "      <td>-1.489023</td>\n",
       "      <td>-1.018440</td>\n",
       "      <td>-0.568325</td>\n",
       "      <td>-1.334103</td>\n",
       "      <td>-1.354743</td>\n",
       "      <td>1.354743</td>\n",
       "      <td>-0.286855</td>\n",
       "      <td>-0.174193</td>\n",
       "      <td>...</td>\n",
       "      <td>1.242650</td>\n",
       "      <td>-0.381529</td>\n",
       "      <td>-1.375891</td>\n",
       "      <td>2.860816</td>\n",
       "      <td>-0.351028</td>\n",
       "      <td>3.109193</td>\n",
       "      <td>-1.598190</td>\n",
       "      <td>-0.480558</td>\n",
       "      <td>0.720403</td>\n",
       "      <td>-0.720403</td>\n",
       "    </tr>\n",
       "    <tr>\n",
       "      <th>2</th>\n",
       "      <td>1.105037</td>\n",
       "      <td>-0.956917</td>\n",
       "      <td>0.010040</td>\n",
       "      <td>-0.049238</td>\n",
       "      <td>-0.576375</td>\n",
       "      <td>-0.139541</td>\n",
       "      <td>0.738147</td>\n",
       "      <td>-0.738147</td>\n",
       "      <td>-0.286855</td>\n",
       "      <td>-0.174193</td>\n",
       "      <td>...</td>\n",
       "      <td>-0.804732</td>\n",
       "      <td>-0.381529</td>\n",
       "      <td>0.726802</td>\n",
       "      <td>-0.349551</td>\n",
       "      <td>-0.351028</td>\n",
       "      <td>-0.321627</td>\n",
       "      <td>0.625708</td>\n",
       "      <td>-0.480558</td>\n",
       "      <td>-1.388112</td>\n",
       "      <td>1.388112</td>\n",
       "    </tr>\n",
       "    <tr>\n",
       "      <th>3</th>\n",
       "      <td>1.505873</td>\n",
       "      <td>-1.281758</td>\n",
       "      <td>0.660050</td>\n",
       "      <td>-0.849103</td>\n",
       "      <td>-0.393080</td>\n",
       "      <td>-0.020085</td>\n",
       "      <td>-1.354743</td>\n",
       "      <td>1.354743</td>\n",
       "      <td>-0.286855</td>\n",
       "      <td>-0.174193</td>\n",
       "      <td>...</td>\n",
       "      <td>1.242650</td>\n",
       "      <td>2.621031</td>\n",
       "      <td>-1.375891</td>\n",
       "      <td>-0.349551</td>\n",
       "      <td>-0.351028</td>\n",
       "      <td>-0.321627</td>\n",
       "      <td>0.625708</td>\n",
       "      <td>-0.480558</td>\n",
       "      <td>-1.388112</td>\n",
       "      <td>1.388112</td>\n",
       "    </tr>\n",
       "    <tr>\n",
       "      <th>4</th>\n",
       "      <td>-0.915649</td>\n",
       "      <td>-1.281758</td>\n",
       "      <td>-1.399220</td>\n",
       "      <td>-0.695373</td>\n",
       "      <td>-0.847821</td>\n",
       "      <td>1.293934</td>\n",
       "      <td>0.738147</td>\n",
       "      <td>-0.738147</td>\n",
       "      <td>-0.286855</td>\n",
       "      <td>-0.174193</td>\n",
       "      <td>...</td>\n",
       "      <td>1.242650</td>\n",
       "      <td>-0.381529</td>\n",
       "      <td>0.726802</td>\n",
       "      <td>-0.349551</td>\n",
       "      <td>-0.351028</td>\n",
       "      <td>-0.321627</td>\n",
       "      <td>-1.598190</td>\n",
       "      <td>2.080915</td>\n",
       "      <td>0.720403</td>\n",
       "      <td>-0.720403</td>\n",
       "    </tr>\n",
       "    <tr>\n",
       "      <th>...</th>\n",
       "      <td>...</td>\n",
       "      <td>...</td>\n",
       "      <td>...</td>\n",
       "      <td>...</td>\n",
       "      <td>...</td>\n",
       "      <td>...</td>\n",
       "      <td>...</td>\n",
       "      <td>...</td>\n",
       "      <td>...</td>\n",
       "      <td>...</td>\n",
       "      <td>...</td>\n",
       "      <td>...</td>\n",
       "      <td>...</td>\n",
       "      <td>...</td>\n",
       "      <td>...</td>\n",
       "      <td>...</td>\n",
       "      <td>...</td>\n",
       "      <td>...</td>\n",
       "      <td>...</td>\n",
       "      <td>...</td>\n",
       "      <td>...</td>\n",
       "    </tr>\n",
       "    <tr>\n",
       "      <th>8518</th>\n",
       "      <td>-1.402547</td>\n",
       "      <td>-0.181193</td>\n",
       "      <td>1.180783</td>\n",
       "      <td>0.349915</td>\n",
       "      <td>2.473514</td>\n",
       "      <td>1.293934</td>\n",
       "      <td>0.738147</td>\n",
       "      <td>-0.738147</td>\n",
       "      <td>-0.286855</td>\n",
       "      <td>-0.174193</td>\n",
       "      <td>...</td>\n",
       "      <td>1.242650</td>\n",
       "      <td>-0.381529</td>\n",
       "      <td>0.726802</td>\n",
       "      <td>-0.349551</td>\n",
       "      <td>-0.351028</td>\n",
       "      <td>-0.321627</td>\n",
       "      <td>0.625708</td>\n",
       "      <td>-0.480558</td>\n",
       "      <td>0.720403</td>\n",
       "      <td>-0.720403</td>\n",
       "    </tr>\n",
       "    <tr>\n",
       "      <th>8519</th>\n",
       "      <td>-1.045331</td>\n",
       "      <td>-0.371154</td>\n",
       "      <td>-0.527301</td>\n",
       "      <td>-0.956402</td>\n",
       "      <td>0.057689</td>\n",
       "      <td>-0.497909</td>\n",
       "      <td>-1.354743</td>\n",
       "      <td>1.354743</td>\n",
       "      <td>3.486083</td>\n",
       "      <td>-0.174193</td>\n",
       "      <td>...</td>\n",
       "      <td>-0.804732</td>\n",
       "      <td>-0.381529</td>\n",
       "      <td>0.726802</td>\n",
       "      <td>-0.349551</td>\n",
       "      <td>-0.351028</td>\n",
       "      <td>-0.321627</td>\n",
       "      <td>0.625708</td>\n",
       "      <td>-0.480558</td>\n",
       "      <td>0.720403</td>\n",
       "      <td>-0.720403</td>\n",
       "    </tr>\n",
       "    <tr>\n",
       "      <th>8520</th>\n",
       "      <td>-0.521886</td>\n",
       "      <td>-0.599784</td>\n",
       "      <td>-0.897208</td>\n",
       "      <td>-0.579100</td>\n",
       "      <td>-0.584547</td>\n",
       "      <td>-0.736822</td>\n",
       "      <td>0.738147</td>\n",
       "      <td>-0.738147</td>\n",
       "      <td>-0.286855</td>\n",
       "      <td>-0.174193</td>\n",
       "      <td>...</td>\n",
       "      <td>-0.804732</td>\n",
       "      <td>-0.381529</td>\n",
       "      <td>0.726802</td>\n",
       "      <td>-0.349551</td>\n",
       "      <td>-0.351028</td>\n",
       "      <td>-0.321627</td>\n",
       "      <td>-1.598190</td>\n",
       "      <td>2.080915</td>\n",
       "      <td>0.720403</td>\n",
       "      <td>-0.720403</td>\n",
       "    </tr>\n",
       "    <tr>\n",
       "      <th>8521</th>\n",
       "      <td>-1.321200</td>\n",
       "      <td>1.532880</td>\n",
       "      <td>-0.607977</td>\n",
       "      <td>-0.196725</td>\n",
       "      <td>0.241770</td>\n",
       "      <td>-1.334103</td>\n",
       "      <td>-1.354743</td>\n",
       "      <td>1.354743</td>\n",
       "      <td>-0.286855</td>\n",
       "      <td>-0.174193</td>\n",
       "      <td>...</td>\n",
       "      <td>1.242650</td>\n",
       "      <td>-0.381529</td>\n",
       "      <td>-1.375891</td>\n",
       "      <td>2.860816</td>\n",
       "      <td>-0.351028</td>\n",
       "      <td>-0.321627</td>\n",
       "      <td>0.625708</td>\n",
       "      <td>-0.480558</td>\n",
       "      <td>0.720403</td>\n",
       "      <td>-0.720403</td>\n",
       "    </tr>\n",
       "    <tr>\n",
       "      <th>8522</th>\n",
       "      <td>0.468415</td>\n",
       "      <td>-0.411936</td>\n",
       "      <td>-1.052261</td>\n",
       "      <td>-0.829594</td>\n",
       "      <td>-0.970626</td>\n",
       "      <td>0.099372</td>\n",
       "      <td>0.738147</td>\n",
       "      <td>-0.738147</td>\n",
       "      <td>-0.286855</td>\n",
       "      <td>-0.174193</td>\n",
       "      <td>...</td>\n",
       "      <td>-0.804732</td>\n",
       "      <td>-0.381529</td>\n",
       "      <td>0.726802</td>\n",
       "      <td>-0.349551</td>\n",
       "      <td>-0.351028</td>\n",
       "      <td>3.109193</td>\n",
       "      <td>-1.598190</td>\n",
       "      <td>-0.480558</td>\n",
       "      <td>0.720403</td>\n",
       "      <td>-0.720403</td>\n",
       "    </tr>\n",
       "  </tbody>\n",
       "</table>\n",
       "<p>8523 rows × 39 columns</p>\n",
       "</div>"
      ],
      "text/plain": [
       "      Item_Weight  Item_Visibility  Item_MRP  Item_Outlet_Sales  \\\n",
       "0       -0.828408        -0.970732  1.747454           0.910601   \n",
       "1       -1.625364        -0.908111 -1.489023          -1.018440   \n",
       "2        1.105037        -0.956917  0.010040          -0.049238   \n",
       "3        1.505873        -1.281758  0.660050          -0.849103   \n",
       "4       -0.915649        -1.281758 -1.399220          -0.695373   \n",
       "...           ...              ...       ...                ...   \n",
       "8518    -1.402547        -0.181193  1.180783           0.349915   \n",
       "8519    -1.045331        -0.371154 -0.527301          -0.956402   \n",
       "8520    -0.521886        -0.599784 -0.897208          -0.579100   \n",
       "8521    -1.321200         1.532880 -0.607977          -0.196725   \n",
       "8522     0.468415        -0.411936 -1.052261          -0.829594   \n",
       "\n",
       "      Price_per_unit  Outlet_vintage  Item_Fat_Content_Low Fat  \\\n",
       "0           1.895649       -0.139541                  0.738147   \n",
       "1          -0.568325       -1.334103                 -1.354743   \n",
       "2          -0.576375       -0.139541                  0.738147   \n",
       "3          -0.393080       -0.020085                 -1.354743   \n",
       "4          -0.847821        1.293934                  0.738147   \n",
       "...              ...             ...                       ...   \n",
       "8518        2.473514        1.293934                  0.738147   \n",
       "8519        0.057689       -0.497909                 -1.354743   \n",
       "8520       -0.584547       -0.736822                  0.738147   \n",
       "8521        0.241770       -1.334103                 -1.354743   \n",
       "8522       -0.970626        0.099372                  0.738147   \n",
       "\n",
       "      Item_Fat_Content_Regular  Item_Type_Baking Goods  Item_Type_Breads  ...  \\\n",
       "0                    -0.738147               -0.286855         -0.174193  ...   \n",
       "1                     1.354743               -0.286855         -0.174193  ...   \n",
       "2                    -0.738147               -0.286855         -0.174193  ...   \n",
       "3                     1.354743               -0.286855         -0.174193  ...   \n",
       "4                    -0.738147               -0.286855         -0.174193  ...   \n",
       "...                        ...                     ...               ...  ...   \n",
       "8518                 -0.738147               -0.286855         -0.174193  ...   \n",
       "8519                  1.354743                3.486083         -0.174193  ...   \n",
       "8520                 -0.738147               -0.286855         -0.174193  ...   \n",
       "8521                  1.354743               -0.286855         -0.174193  ...   \n",
       "8522                 -0.738147               -0.286855         -0.174193  ...   \n",
       "\n",
       "      Outlet_Location_Type_Tier 3  Outlet_Type_Grocery Store  \\\n",
       "0                       -0.804732                  -0.381529   \n",
       "1                        1.242650                  -0.381529   \n",
       "2                       -0.804732                  -0.381529   \n",
       "3                        1.242650                   2.621031   \n",
       "4                        1.242650                  -0.381529   \n",
       "...                           ...                        ...   \n",
       "8518                     1.242650                  -0.381529   \n",
       "8519                    -0.804732                  -0.381529   \n",
       "8520                    -0.804732                  -0.381529   \n",
       "8521                     1.242650                  -0.381529   \n",
       "8522                    -0.804732                  -0.381529   \n",
       "\n",
       "      Outlet_Type_Supermarket Type1  Outlet_Type_Supermarket Type2  \\\n",
       "0                          0.726802                      -0.349551   \n",
       "1                         -1.375891                       2.860816   \n",
       "2                          0.726802                      -0.349551   \n",
       "3                         -1.375891                      -0.349551   \n",
       "4                          0.726802                      -0.349551   \n",
       "...                             ...                            ...   \n",
       "8518                       0.726802                      -0.349551   \n",
       "8519                       0.726802                      -0.349551   \n",
       "8520                       0.726802                      -0.349551   \n",
       "8521                      -1.375891                       2.860816   \n",
       "8522                       0.726802                      -0.349551   \n",
       "\n",
       "      Outlet_Type_Supermarket Type3  Item_Id_DR  Item_Id_FD  Item_Id_NC  \\\n",
       "0                         -0.351028   -0.321627    0.625708   -0.480558   \n",
       "1                         -0.351028    3.109193   -1.598190   -0.480558   \n",
       "2                         -0.351028   -0.321627    0.625708   -0.480558   \n",
       "3                         -0.351028   -0.321627    0.625708   -0.480558   \n",
       "4                         -0.351028   -0.321627   -1.598190    2.080915   \n",
       "...                             ...         ...         ...         ...   \n",
       "8518                      -0.351028   -0.321627    0.625708   -0.480558   \n",
       "8519                      -0.351028   -0.321627    0.625708   -0.480558   \n",
       "8520                      -0.351028   -0.321627   -1.598190    2.080915   \n",
       "8521                      -0.351028   -0.321627    0.625708   -0.480558   \n",
       "8522                      -0.351028    3.109193   -1.598190   -0.480558   \n",
       "\n",
       "      Item_Type_cat_Non Perishables  Item_Type_cat_Perishables  \n",
       "0                         -1.388112                   1.388112  \n",
       "1                          0.720403                  -0.720403  \n",
       "2                         -1.388112                   1.388112  \n",
       "3                         -1.388112                   1.388112  \n",
       "4                          0.720403                  -0.720403  \n",
       "...                             ...                        ...  \n",
       "8518                       0.720403                  -0.720403  \n",
       "8519                       0.720403                  -0.720403  \n",
       "8520                       0.720403                  -0.720403  \n",
       "8521                       0.720403                  -0.720403  \n",
       "8522                       0.720403                  -0.720403  \n",
       "\n",
       "[8523 rows x 39 columns]"
      ]
     },
     "execution_count": 55,
     "metadata": {},
     "output_type": "execute_result"
    }
   ],
   "source": [
    "scaled_train"
   ]
  },
  {
   "cell_type": "code",
   "execution_count": null,
   "metadata": {},
   "outputs": [],
   "source": []
  }
 ],
 "metadata": {
  "kernelspec": {
   "display_name": "Python 3",
   "language": "python",
   "name": "python3"
  },
  "language_info": {
   "codemirror_mode": {
    "name": "ipython",
    "version": 3
   },
   "file_extension": ".py",
   "mimetype": "text/x-python",
   "name": "python",
   "nbconvert_exporter": "python",
   "pygments_lexer": "ipython3",
   "version": "3.7.6"
  }
 },
 "nbformat": 4,
 "nbformat_minor": 4
}
